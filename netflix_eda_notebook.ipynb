{
 "cells": [
  {
   "cell_type": "markdown",
   "id": "168c8e14",
   "metadata": {},
   "source": [
    "# 🎬 Exploratory Data Analysis (EDA) on Netflix Dataset  \n",
    "**Goal:** To analyze Netflix Movies and TV Shows dataset and extract meaningful insights.  \n",
    "Dataset Source: Kaggle – [Netflix Movies and TV Shows](https://www.kaggle.com/datasets/shivamb/netflix-shows)  \n"
   ]
  },
  {
   "cell_type": "code",
   "execution_count": 1,
   "id": "50d6e04f",
   "metadata": {},
   "outputs": [
    {
     "ename": "SyntaxError",
     "evalue": "source code string cannot contain null bytes (<string>)",
     "output_type": "error",
     "traceback": [
      "Traceback \u001b[36m(most recent call last)\u001b[39m:\n",
      "  File \u001b[92mc:\\Users\\Sunidhi\\Data_Science_Projects\\netflix_eda_project\\venv\\Lib\\site-packages\\IPython\\core\\interactiveshell.py:3699\u001b[39m in \u001b[95mrun_code\u001b[39m\n    exec(code_obj, self.user_global_ns, self.user_ns)\n",
      "  Cell \u001b[92mIn[1]\u001b[39m\u001b[92m, line 2\u001b[39m\n    import pandas as pd\n",
      "  File \u001b[92mc:\\Users\\Sunidhi\\Data_Science_Projects\\netflix_eda_project\\venv\\Lib\\site-packages\\pandas\\__init__.py:61\u001b[39m\n    from pandas.core.api import (\n",
      "\u001b[36m  \u001b[39m\u001b[36mFile \u001b[39m\u001b[32mc:\\Users\\Sunidhi\\Data_Science_Projects\\netflix_eda_project\\venv\\Lib\\site-packages\\pandas\\core\\api.py:9\u001b[39m\n\u001b[31m    \u001b[39m\u001b[31mfrom pandas.core.dtypes.dtypes import (\u001b[39m\n",
      "  \u001b[36mFile \u001b[39m\u001b[32m<string>\u001b[39m\n\u001b[31mSyntaxError\u001b[39m\u001b[31m:\u001b[39m source code string cannot contain null bytes\n"
     ]
    }
   ],
   "source": [
    "# 🔹 Importing Required Libraries\n",
    "import pandas as pd\n",
    "import numpy as np\n",
    "import matplotlib.pyplot as plt\n",
    "import seaborn as sns\n",
    "\n",
    "# To display plots inside notebook\n",
    "%matplotlib inline  \n",
    "\n",
    "print(\"✅ Libraries loaded successfully\")\n"
   ]
  }
 ],
 "metadata": {
  "kernelspec": {
   "display_name": "venv",
   "language": "python",
   "name": "python3"
  },
  "language_info": {
   "codemirror_mode": {
    "name": "ipython",
    "version": 3
   },
   "file_extension": ".py",
   "mimetype": "text/x-python",
   "name": "python",
   "nbconvert_exporter": "python",
   "pygments_lexer": "ipython3",
   "version": "3.13.1"
  }
 },
 "nbformat": 4,
 "nbformat_minor": 5
}
